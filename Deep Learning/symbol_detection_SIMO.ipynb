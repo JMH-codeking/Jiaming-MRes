{
 "cells": [
  {
   "cell_type": "code",
   "execution_count": 3,
   "metadata": {},
   "outputs": [],
   "source": [
    "from model.transformers import Encoder\n",
    "import torch\n",
    "import numpy as np\n",
    "len_traj = 40\n",
    "batch_size = 4\n",
    "d_obj = 2\n",
    "d_embed = 256 # embedding dimension\n",
    "n_heads = 16\n",
    "d_k = 16\n",
    "d_hidden = 64\n",
    "d_class = 4\n",
    "n_layers = 6 # Encoder内含\n",
    "if torch.backends.mps.is_available():\n",
    "    device = torch.device('mps')\n",
    "else:\n",
    "    device = torch.device('cpu')\n",
    "encoder = Encoder(d_obj, d_embed, d_class, d_k, d_hidden, n_heads, n_layers)\n",
    "x = torch.randn(30, 4, 2)\n",
    "y, _ = encoder(x)\n",
    "def mapping_qpsk (\n",
    "    data\n",
    "):\n",
    "    _real = np.real(data)\n",
    "    _imag = np.imag(data)\n",
    "\n",
    "    if _real > 0 and _imag > 0:\n",
    "        return 0\n",
    "    if _real > 0 and _imag < 0:\n",
    "        return 1\n",
    "    if _real < 0 and _imag > 0:\n",
    "        return 2\n",
    "    else:\n",
    "        return 3\n",
    "    \n",
    "def cross_entropy(y_true,y_pred):\n",
    "    C=0\n",
    "    # one-hot encoding\n",
    "    for col in range(y_true.shape[-1]):\n",
    "        y_pred[col] = y_pred[col] if y_pred[col] < 1 else 0.99999\n",
    "        y_pred[col] = y_pred[col] if y_pred[col] > 0 else 0.00001\n",
    "        C+=y_true[col]*torch.log(y_pred[col])+(1-y_true[col])*torch.log(1-y_pred[col])\n",
    "    return -C"
   ]
  },
  {
   "cell_type": "code",
   "execution_count": 5,
   "metadata": {},
   "outputs": [],
   "source": [
    "from rezero.transformer import RZTXEncoderLayer\n",
    "import torch.nn as nn\n",
    "\n",
    "class Stransformers(nn.Module):\n",
    "    def __init__(self, d_obj, nhead, num_layer = 6, d_embed = 128, d_class = 4):\n",
    "        super(Stransformers, self).__init__()\n",
    "        self.embedding = nn.Linear(d_obj, d_embed)\n",
    "        enc_layer = RZTXEncoderLayer(d_embed, nhead)\n",
    "        self.encoder = nn.TransformerEncoder(enc_layer, num_layer)\n",
    "        self.fc = nn.Linear(d_embed, d_class)\n",
    "\n",
    "    def forward(self, x):\n",
    "        y = self.embedding(x)\n",
    "        y = self.encoder(y)\n",
    "        y = self.fc(y[:, -1, :])\n",
    "        out = torch.log_softmax(y, dim = -1)\n",
    "        return out\n"
   ]
  },
  {
   "cell_type": "code",
   "execution_count": 13,
   "metadata": {},
   "outputs": [
    {
     "name": "stdout",
     "output_type": "stream",
     "text": [
      "(1000, 200, 16)\n",
      "(1000, 200, 16, 4)\n"
     ]
    }
   ],
   "source": [
    "import torch\n",
    "import numpy as np\n",
    "from data_processing import *\n",
    "import scipy.io as spio\n",
    "from torch.nn import functional as F\n",
    "\n",
    "\n",
    "Nr = 4\n",
    "carrier_num = 16\n",
    "symbol_num = 200\n",
    "channel_num = 1000\n",
    "\n",
    "_channel = {}\n",
    "_tau = list()\n",
    "_fdoppler = list()\n",
    "_Txsteering = list()\n",
    "_Rxsteering = list()\n",
    "_x = list()\n",
    "_y = list()\n",
    "_y_norm = list()\n",
    "_y_norm_n = list()\n",
    "h = list()\n",
    "\n",
    "for i in range(1, channel_num+1):\n",
    "    path = f'./SIMO_data/ISAC_QPSK_OFDM_{i}.mat'\n",
    "    data = spio.loadmat(path)\n",
    "    _tau.append(\n",
    "        data['ISAC_data']['channel'][0][0]['time_delay'][0][0][0]\n",
    "    )\n",
    "    _fdoppler.append(\n",
    "        data['ISAC_data']['channel'][0][0]['f_doppler'][0][0][0]\n",
    "    )\n",
    "    _Txsteering.append(\n",
    "        data['ISAC_data']['channel'][0][0]['Tx_steeringangle'][0][0][0]\n",
    "    )\n",
    "    _Rxsteering.append(\n",
    "        data['ISAC_data']['channel'][0][0]['Rx_steeringangle'][0][0][0]\n",
    "    )\n",
    "    _x.append(\n",
    "        data['ISAC_data']['x'][0][0]\n",
    "    )\n",
    "    _y.append(\n",
    "        data['ISAC_data']['y'][0][0]\n",
    "    )\n",
    "    _y_norm.append(\n",
    "        data['ISAC_data']['y_norm'][0][0]\n",
    "    )\n",
    "    _y_norm_n.append(\n",
    "        data['ISAC_data']['y_norm_n'][0][0]\n",
    "    )\n",
    "    h.append(\n",
    "        data['ISAC_data']['h'][0][0]\n",
    "    )\n",
    "\n",
    "_channel['time_delay'] = _tau\n",
    "_channel['doppler_shift'] = _fdoppler\n",
    "_channel['_Txsteering'] = _Txsteering\n",
    "_channel['_Rxsteering'] = _Rxsteering\n",
    "\n",
    "x_simo, _, y_simo, h = np.array(_x), np.array(_y), np.array(_y_norm), np.array(h)\n",
    "y_simo_n = np.array(_y_norm_n)\n",
    "print (x_simo.shape)\n",
    "print (y_simo_n.shape)\n",
    "\n",
    "\n",
    "y_simo_isac = np.zeros(shape = (carrier_num, channel_num, symbol_num, Nr, 2))\n",
    "label_simo_isac = np.zeros(shape = (carrier_num, channel_num, symbol_num))\n",
    "for n in range (carrier_num):\n",
    "    for i in range (channel_num):\n",
    "        for j in range (symbol_num):\n",
    "            label_simo_isac[n, i, j] = mapping_qpsk (\n",
    "                x_simo[i, j, n]\n",
    "            )\n",
    "            for k in range (Nr):\n",
    "                y_simo_isac[n, i, j, k] = np.array(\n",
    "                    [\n",
    "                        np.real(y_simo_n[i, j, n, k]),\n",
    "                        np.imag(y_simo_n[i, j, n, k]),\n",
    "                    ]\n",
    "                )\n",
    "\n"
   ]
  },
  {
   "cell_type": "code",
   "execution_count": 14,
   "metadata": {},
   "outputs": [
    {
     "name": "stdout",
     "output_type": "stream",
     "text": [
      "training data shape: (1000, 200, 4, 2)\n",
      "training label shape(1000, 200)\n"
     ]
    }
   ],
   "source": [
    "y_train, label_train = y_simo_isac[0], label_simo_isac[0]\n",
    "y_train_1, label_train_1 = y_simo_isac[15], label_simo_isac[15]\n",
    "print (f'training data shape: {y_train.shape}')\n",
    "print (f'training label shape{label_train.shape}')"
   ]
  },
  {
   "cell_type": "code",
   "execution_count": 15,
   "metadata": {},
   "outputs": [],
   "source": [
    "import torch\n",
    "from torch import nn\n",
    "\n",
    "class BiLSTM(nn.Module):\n",
    "    def __init__(self, input_size, hidden_size, num_classes):\n",
    "        super(BiLSTM, self).__init__()\n",
    "        self.hidden_size = hidden_size\n",
    "        self.lstm = nn.LSTM(\n",
    "            input_size, hidden_size, bidirectional=True, num_layers = 3\n",
    "        )\n",
    "        self.fc = nn.Linear(hidden_size * 2, num_classes) # times 2 because of bidirection\n",
    "\n",
    "    def forward(self, x):\n",
    "        seq_len, batch_size, _ = x.size()\n",
    "        h0 = torch.zeros(2*self.lstm.num_layers, batch_size, self.hidden_size).to(x.device) # 2 for bidirection \n",
    "        c0 = torch.zeros(2*self.lstm.num_layers, batch_size, self.hidden_size).to(x.device)\n",
    "\n",
    "        out, _ = self.lstm(x, (h0, c0))\n",
    "        out = self.fc(out[:, -1, :])\n",
    "\n",
    "        return out\n",
    "# Parameters\n",
    "input_size = 2 # input size for each LSTM cell (complex numbers)\n",
    "hidden_size = 20 # hidden state size for LSTM cell\n",
    "num_classes = 4 # number of classes for classification\n"
   ]
  },
  {
   "cell_type": "code",
   "execution_count": 16,
   "metadata": {},
   "outputs": [],
   "source": [
    "y_train = torch.tensor(\n",
    "    y_train,\n",
    "    dtype = torch.float32\n",
    ")\n",
    "\n",
    "label_train = torch.tensor(\n",
    "    label_train,\n",
    "    dtype = torch.long\n",
    ")\n",
    "\n",
    "\n",
    "y_train_1 = torch.tensor(\n",
    "    y_train_1,\n",
    "    dtype = torch.float32\n",
    ")\n",
    "\n",
    "label_train_1 = torch.tensor(\n",
    "    label_train_1,\n",
    "    dtype = torch.long\n",
    ")\n",
    "\n"
   ]
  },
  {
   "cell_type": "code",
   "execution_count": 19,
   "metadata": {},
   "outputs": [],
   "source": [
    "\n",
    "loss = nn.CrossEntropyLoss()\n",
    "import hiddenlayer as hl\n",
    "\n",
    "canvasl = hl.Canvas()\n",
    "historyl = hl.History()\n",
    "window_size = 40\n",
    "train_cnt = 0\n",
    "acc_train_list = list()\n",
    "acc_train_lstm_list = list()"
   ]
  },
  {
   "cell_type": "code",
   "execution_count": 49,
   "metadata": {},
   "outputs": [
    {
     "data": {
      "image/png": "[encoded data removed]",
      "text/plain": [
       "<Figure size 864x288 with 1 Axes>"
      ]
     },
     "metadata": {
      "needs_background": "light"
     },
     "output_type": "display_data"
    }
   ],
   "source": [
    "\n",
    "import time\n",
    "from matplotlib import pyplot as plt\n",
    "canvasl = hl.Canvas()\n",
    "historyl = hl.History()\n",
    "input_size = 2 # input size for each LSTM cell (complex numbers)\n",
    "hidden_size = 20 # hidden state size for LSTM cell\n",
    "num_classes = 4 # number of classes for classification\n",
    "window_size = 10\n",
    "acc_list = list()\n",
    "training_time =list()\n",
    "for idx in range (100, 101):\n",
    "    \n",
    "    start = time.time()\n",
    "    train_transformer = True\n",
    "    train_lstm = True\n",
    "    # Parameters\n",
    "\n",
    "\n",
    "    enc_transformer= Stransformers(d_obj, n_heads)\n",
    "    enc_lstm = BiLSTM(input_size, hidden_size, num_classes)\n",
    "\n",
    "    _x = y_train[idx]\n",
    "    _y= label_train[idx]\n",
    "\n",
    "    _X = y_train_1[idx]\n",
    "    _Y = label_train_1[idx]\n",
    "    Loss = nn.CrossEntropyLoss()\n",
    "    optimiser_transformer = torch.optim.Adam(\n",
    "        enc_transformer.parameters(),\n",
    "        lr = 1e-3,\n",
    "        weight_decay = 1e-4\n",
    "    )\n",
    "\n",
    "    optimiser_lstm = torch.optim.Adam(\n",
    "        enc_lstm.parameters(),\n",
    "        lr = 1e-3,\n",
    "        weight_decay = 1e-4\n",
    "    )\n",
    "\n",
    "    cnt_print_lstm = 0\n",
    "    cnt_print_transformer = 0\n",
    "    for cnt in range (symbol_num - window_size + 1):\n",
    "        _cnt  = cnt +1\n",
    "        x = _x[cnt: cnt + window_size]\n",
    "        y = _y[cnt: cnt + window_size]\n",
    "\n",
    "        x_1 = _X[cnt: cnt + window_size]\n",
    "        y_1 = _Y[cnt: cnt + window_size]\n",
    "\n",
    "        '''Transformer\n",
    "        \n",
    "        '''\n",
    "\n",
    "        # carrier 0\n",
    "        Y_transformer = enc_transformer(x)\n",
    "        _, predicted = torch.max(Y_transformer, 1)\n",
    "        acc_transformer = (predicted == y).sum().item() / window_size\n",
    "\n",
    "        # carrier 1\n",
    "        Y_transformer_1 = enc_transformer(x_1)\n",
    "        _, predicted = torch.max(Y_transformer_1, 1)\n",
    "        acc_transformer_1 = (predicted == y_1).sum().item() / window_size\n",
    "\n",
    "\n",
    "\n",
    "        # decide whether the network requires training\n",
    "        if acc_transformer > 0.99:\n",
    "            if cnt_print_transformer == 0:\n",
    "                torch.save(enc_transformer.state_dict(), './model/model_state_dict/STransformer.pt')\n",
    "                end = time.time()\n",
    "                _training = end - start\n",
    "                training_time.append(_training)\n",
    "                acc_list.append(_cnt)\n",
    "                if (_cnt) % 100 == 0:\n",
    "                    print (f'{_training:.2f} - - {_cnt}')\n",
    "                # print (f'for channel index {idx}')\n",
    "                # print (f'processing time for more than 90% is {end - start:.2f}')\n",
    "                # print (f'required steps is {cnt+1}')\n",
    "                cnt_print_transformer += 1\n",
    "                train_transformer = False\n",
    "                # break\n",
    "        if train_transformer:\n",
    "            optimiser_transformer.zero_grad()\n",
    "            loss = Loss(Y_transformer, y)\n",
    "            loss.backward()\n",
    "            optimiser_transformer.step()\n",
    "        \n",
    "            # break\n",
    "        \n",
    "\n",
    "        '''SBRNN\n",
    "        \n",
    "        '''\n",
    "\n",
    "        Y_lstm = enc_lstm(x)\n",
    "        _, predicted = torch.max(Y_lstm, 1)\n",
    "        acc_lstm = (predicted == y).sum().item() / window_size\n",
    "\n",
    "        # carrier 1\n",
    "        Y_lstm_1 = enc_lstm(x_1)\n",
    "        _, predicted = torch.max(Y_lstm_1, 1)\n",
    "        acc_lstm_1 = (predicted == y_1).sum().item() / window_size \n",
    "\n",
    "        if acc_lstm > 0.9:\n",
    "            if cnt_print_lstm == 0:\n",
    "                torch.save(enc_lstm.state_dict(), './model/model_state_dict/SBRNN.pt')\n",
    "                end = time.time()\n",
    "                _training = end - start\n",
    "                training_time.append(_training)\n",
    "                acc_list.append(_cnt)\n",
    "                if (_cnt) % 100 == 0:\n",
    "                    print (f'{_training:.2f} - - {_cnt}')\n",
    "                # print (f'for channel index {idx}')\n",
    "                # print (f'processing time for more than 90% is {end - start:.2f}')\n",
    "                # print (f'required steps is {cnt+1}')\n",
    "                cnt_print_lstm += 1\n",
    "                train_lstm = False\n",
    "                # break\n",
    "        if train_lstm:\n",
    "            optimiser_lstm.zero_grad()\n",
    "            loss = Loss(Y_lstm, y)\n",
    "            loss.backward()\n",
    "            optimiser_lstm.step()\n",
    "        \n",
    "\n",
    "        '''log things and print out as canvas plot\n",
    "        \n",
    "        '''\n",
    "\n",
    "        historyl.log(\n",
    "            cnt,\n",
    "            acc_STransformer_carrier0 = acc_transformer,\n",
    "            acc_STransformer_carrier15 = acc_transformer_1,\n",
    "\n",
    "            acc_SBRNN_carrier0 = acc_lstm,\n",
    "            acc_SBRNN_carrier15 = acc_lstm_1,\n",
    "\n",
    "            # Training_state_transformer = train_transformer,\n",
    "            # Training_state_lstm = train_lstm\n",
    "        )\n",
    "        canvasl.draw_plot(\n",
    "            [\n",
    "                historyl['acc_STransformer_carrier0'],\n",
    "                historyl['acc_STransformer_carrier15'],\n",
    "                historyl['acc_SBRNN_carrier0'],\n",
    "                historyl['acc_SBRNN_carrier15'],\n",
    "                # historyl['Training_state_transformer'],\n",
    "                # historyl['Training_state_lstm']\n",
    "            ],\n",
    "            ylabel = 'SER',\n",
    "            _title = 'Comparison Between SBRNN and STransformer'\n",
    "        )\n",
    "        canvasl.save('./results/comparison_SBRNN_STransformer.png')\n",
    "    "
   ]
  },
  {
   "cell_type": "code",
   "execution_count": 47,
   "metadata": {},
   "outputs": [
    {
     "data": {
      "text/plain": [
       "3555978"
      ]
     },
     "execution_count": 47,
     "metadata": {},
     "output_type": "execute_result"
    }
   ],
   "source": [
    "enc_transformer_test= Stransformers(d_obj, n_heads)\n",
    "enc_transformer_test.load_state_dict(torch.load('./model/model_state_dict/STransformer.pt'))\n",
    "sum(p.numel() for p in enc_transformer_test.parameters())"
   ]
  },
  {
   "cell_type": "code",
   "execution_count": 48,
   "metadata": {},
   "outputs": [
    {
     "data": {
      "text/plain": [
       "23844"
      ]
     },
     "execution_count": 48,
     "metadata": {},
     "output_type": "execute_result"
    }
   ],
   "source": [
    "\n",
    "enc_lstm_test = BiLSTM(input_size, hidden_size, num_classes)\n",
    "enc_lstm_test.load_state_dict(torch.load('./model/model_state_dict/SBRNN.pt'))\n",
    "sum(p.numel() for p in enc_lstm_test.parameters())"
   ]
  },
  {
   "cell_type": "code",
   "execution_count": 13,
   "metadata": {},
   "outputs": [],
   "source": [
    "acc_list = np.array(acc_list)\n",
    "training_time = np.array(training_time)"
   ]
  },
  {
   "cell_type": "code",
   "execution_count": 66,
   "metadata": {},
   "outputs": [
    {
     "name": "stdout",
     "output_type": "stream",
     "text": [
      "[ 0  5 10 15 20]\n"
     ]
    },
    {
     "data": {
      "image/png": "[encoded data removed]",
      "text/plain": [
       "<Figure size 432x288 with 1 Axes>"
      ]
     },
     "metadata": {
      "needs_background": "light"
     },
     "output_type": "display_data"
    }
   ],
   "source": [
    "bin = [0, 5, 10, 15, 20]\n",
    "_y_acc = plt.hist(acc_list, bins=bin)[0]\n",
    "_x_acc = plt.hist(acc_list, bins=bin)[1]\n",
    "print (_x_acc)"
   ]
  },
  {
   "cell_type": "code",
   "execution_count": 68,
   "metadata": {},
   "outputs": [
    {
     "data": {
      "image/png": "[encoded data removed]",
      "text/plain": [
       "<Figure size 432x288 with 1 Axes>"
      ]
     },
     "metadata": {
      "needs_background": "light"
     },
     "output_type": "display_data"
    }
   ],
   "source": [
    "bin = [0, 0.5, 1, 1.5, 2, 2.5]\n",
    "number_training_time = plt.hist(training_time, bins = bin)[0]\n",
    "time_training = plt.hist(training_time, bins = bin)[1]"
   ]
  },
  {
   "cell_type": "code",
   "execution_count": 70,
   "metadata": {},
   "outputs": [],
   "source": [
    "x_axis_training = [(time_training[i] + time_training[i+1])/2 for i in range (len(number_training_time))]\n",
    "x_axis_step = [(_x_acc[i] + _x_acc[i+1])/2 for i in range (len(_y_acc))]"
   ]
  },
  {
   "cell_type": "code",
   "execution_count": 71,
   "metadata": {},
   "outputs": [
    {
     "data": {
      "text/plain": [
       "4"
      ]
     },
     "execution_count": 71,
     "metadata": {},
     "output_type": "execute_result"
    }
   ],
   "source": [
    "len(x_axis_step)"
   ]
  },
  {
   "cell_type": "code",
   "execution_count": 111,
   "metadata": {},
   "outputs": [
    {
     "data": {
      "image/png": "[encoded data removed]",
      "text/plain": [
       "<Figure size 1152x576 with 2 Axes>"
      ]
     },
     "metadata": {
      "needs_background": "light"
     },
     "output_type": "display_data"
    }
   ],
   "source": [
    "from matplotlib import pyplot as plt\n",
    "fig = plt.figure(figsize=(16, 8))\n",
    "font = {\n",
    "    'size': 20\n",
    "}\n",
    "ax1 = fig.add_subplot(121)\n",
    "ax1.bar(\n",
    "    x = x_axis_training,\n",
    "    width=0.5, height = number_training_time,\n",
    "    alpha = 0.5,\n",
    "    color = 'blue',\n",
    "    edgecolor = 'red',\n",
    "    linewidth = 3\n",
    ")\n",
    "ax1.set_title('histogram for training time', fontdict=font)\n",
    "ax1.set_xlabel('time for training in seconds', fontdict=font)\n",
    "ax1.set_ylabel('number of channel indices in the range', fontdict = font)\n",
    "\n",
    "ax2 = fig.add_subplot(122)\n",
    "ax2.bar(\n",
    "    x = x_axis_step,\n",
    "    width = 2.5, height = _y_acc,\n",
    "    alpha = 0.5,\n",
    "    align='edge',\n",
    "    color = 'blue',\n",
    "    edgecolor = 'red',\n",
    "    linewidth = 3\n",
    ")\n",
    "ax2.set_title('histogram for training steps', fontdict=font)\n",
    "ax2.set_xlabel('steps for training',fontdict=font)\n",
    "ax2.set_ylabel('number of channel indices in the range', fontdict = font)\n",
    "\n",
    "plt.savefig ('./results/STransformers_2dB.png')\n",
    "plt.show()"
   ]
  },
  {
   "cell_type": "code",
   "execution_count": null,
   "metadata": {},
   "outputs": [],
   "source": []
  },
  {
   "cell_type": "code",
   "execution_count": null,
   "metadata": {},
   "outputs": [],
   "source": [
    "\n",
    "\n",
    "\n",
    "\n",
    "# for epoch in range (10):\n",
    "\n",
    "#     print (f'For Epoch {epoch+1}: ------------------')\n",
    "#     for _y_train, _label_train in zip(\n",
    "#         y_train[600:610], label_train[600:610]\n",
    "#     ):\n",
    "#         train_cnt += 1\n",
    "#         acc_train = 0\n",
    "#         acc_train_lstm = 0\n",
    "#         acc_num_train = 0 # same for training and test\n",
    "#         # loss_sample = 0\n",
    "#         # loss_num_sample = 0\n",
    "#         for cnt in range (symbol_num - window_size + 1):\n",
    "#             model.train() # train with y_train\n",
    "#             X = _y_train[cnt:cnt + window_size]\n",
    "#             Y = _label_train[cnt: cnt + window_size]\n",
    "#             out = enc(X)\n",
    "#             out_lstm = model(X)\n",
    "\n",
    "#             # acc for each sample\n",
    "#             _, predicted = torch.max(out, 1)\n",
    "#             _, predicted_lstm = torch.max(out_lstm, 1)\n",
    "#             acc_train = acc_train + (predicted == Y).sum().item()\n",
    "#             acc_train_lstm = acc_train_lstm + (predicted_lstm == Y).sum().item()\n",
    "#             acc_num_train += window_size\n",
    "\n",
    "#             # backward propagation\n",
    "#             optimiser_transformers.zero_grad()\n",
    "#             _loss = loss(out, Y)\n",
    "#             _loss.backward()\n",
    "#             optimiser_transformers.step()\n",
    "\n",
    "#             optimiser_lstm.zero_grad()\n",
    "#             _loss_lstm = loss(out_lstm, Y)\n",
    "#             _loss_lstm.backward()\n",
    "#             optimiser_lstm.step()\n",
    "            \n",
    "#             # loss_sample += _loss.item()\n",
    "#             # loss_num_sample += 1\n",
    "\n",
    "#         acc_train_list.append(acc_train / acc_num_train)\n",
    "#         acc_train_lstm_list.append(acc_train_lstm / acc_num_train)\n",
    "\n",
    "#         # print (f'loss for the sample {train_cnt} is: {loss_sample / loss_num_sample:.2f}')\n",
    "\n",
    "#         '''record acc for train and test        \n",
    "#         '''\n",
    "\n",
    "#         acc_train_av = sum(acc_train_list) / len(acc_train_list)\n",
    "#         acc_train_av_lstm = sum(acc_train_lstm_list) / len(acc_train_lstm_list)\n",
    "#         print (f'    - - training step {train_cnt} - -')\n",
    "#         print (f'   average accuracy for transformers with ReZero is: {acc_train_av:.3f}')\n",
    "#         print (f'   . . . . . . . . . . . . . . . . . . . for LSTM is: {acc_train_av_lstm:.3f}\\n')\n",
    "#         historyl.log(\n",
    "#             train_cnt,\n",
    "#             acc_train_transformers = acc_train_av,\n",
    "#             acc_train_lstm = acc_train_av_lstm\n",
    "#         )\n",
    "\n",
    "#         with canvasl:\n",
    "#             canvasl.draw_plot([\n",
    "#                 historyl['acc_train_transformers'],\n",
    "#                 historyl['acc_train_lstm']\n",
    "#             ]\n",
    "#             )\n",
    "#     from matplotlib import pyplot as plt\n",
    "#     plt.savefig(f'./results/epoch{epoch}.png')\n",
    "# torch.save(enc.state_dict(), './symbol_detection_STransformers.pt')\n",
    "# torch.save(model.state_dict(), './symbol_detection_SBRNN.pt')"
   ]
  }
 ],
 "metadata": {
  "kernelspec": {
   "display_name": "base",
   "language": "python",
   "name": "python3"
  },
  "language_info": {
   "codemirror_mode": {
    "name": "ipython",
    "version": 3
   },
   "file_extension": ".py",
   "mimetype": "text/x-python",
   "name": "python",
   "nbconvert_exporter": "python",
   "pygments_lexer": "ipython3",
   "version": "3.9.7"
  },
  "orig_nbformat": 4,
  "vscode": {
   "interpreter": {
    "hash": "40d3a090f54c6569ab1632332b64b2c03c39dcf918b08424e98f38b5ae0af88f"
   }
  }
 },
 "nbformat": 4,
 "nbformat_minor": 2
}
